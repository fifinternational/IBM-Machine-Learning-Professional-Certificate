{
  "metadata": {
    "kernelspec": {
      "name": "python",
      "display_name": "Python (Pyodide)",
      "language": "python"
    },
    "language_info": {
      "codemirror_mode": {
        "name": "python",
        "version": 3
      },
      "file_extension": ".py",
      "mimetype": "text/x-python",
      "name": "python",
      "nbconvert_exporter": "python",
      "pygments_lexer": "ipython3",
      "version": "3.8"
    }
  },
  "nbformat_minor": 4,
  "nbformat": 4,
  "cells": [
    {
      "cell_type": "markdown",
      "source": "<p style=\"text-align:center\">\n    <a href=\"https://skills.network/?utm_medium=Exinfluencer&utm_source=Exinfluencer&utm_content=000026UJ&utm_term=10006555&utm_id=NA-SkillsNetwork-Channel-SkillsNetworkCoursesIBMML0187ENSkillsNetwork31430127-2022-01-01\" target=\"_blank\">\n    <img src=\"https://cf-courses-data.s3.us.cloud-object-storage.appdomain.cloud/assets/logos/SN_web_lightmode.png\" width=\"200\" alt=\"Skills Network Logo\">\n    </a>\n</p>\n",
      "metadata": {}
    },
    {
      "cell_type": "markdown",
      "source": "# Matrix review\n\nEstimated time needed: **45** minutes\n",
      "metadata": {}
    },
    {
      "cell_type": "markdown",
      "source": "Matrix operations are a fundamental part of machine learning and many other fields, such as digital signal processing, optimization, control systems, and computer graphics. As a result, there has been a lot of work on optimizing matrix operations, not only in software, but also in hardware. Let's say that you work for an AI hardware  company, and that company has developed a new processor that can only perform matrix operations. The company needs you to implement some popular  statistics such as the mean, variance, and [Principle component analysis (PCA)](https://en.wikipedia.org/wiki/Principal_component_analysis) using matrix operations.\n",
      "metadata": {}
    },
    {
      "cell_type": "markdown",
      "source": "<img src=\"https://cf-courses-data.s3.us.cloud-object-storage.appdomain.cloud/IBM-ML0187EN-SkillsNetwork/labs/module%203/images/technology-electronic-device-computer-hardware-computer-component-electronics-motherboard-personal-computer-hardware-cpu-computer-accessory-1536663.jpeg\" width=\"500\" alt=\"https://pxhere.com/en/photo/1536663\">\n",
      "metadata": {}
    },
    {
      "cell_type": "markdown",
      "source": "## Table of Contents\n\n<ol>\n    <li><a href=\"#Objectives\">Objectives</a></li>\n    <li>\n        <a href=\"#Setup\">Setup</a>\n        <ol>\n            <li><a href=\"#Installing-required-libraries\">Installing required libraries</a></li>\n            <li><a href=\"#Importing-required-libraries\">Importing required libraries</a></li>\n            <li><a href=\"#Defining-helper-functions\">Defining helper gunctions</a></li>\n        </ol>\n    </li>\n    <li>\n        <a href=\"#Basics-of-Matrices\">Basics of matrices</a>\n        <ol>\n            <li><a href=\"#What%27s-a-Matrix?\">What's a matrix? </a></li>\n            <li><a href=\"#Rank-of-a-Matrix\">Rank of a matrix </a></li>\n            <li><a href=\"#Frobenius-Norm-of-a-Matrix\">Frobenius norm of a matrix</a></li>\n            <li><a href=\"#Matrix-Addition\"> Matrix addition</a></li>\n        </ol>\n    </li>\n  <li>\n        <a href=\"#Matrix-and-Vector-Multiplication\">Matrix and vector multiplication</a>\n        <ol>\n            <li><a href=\"#Dot-product\"> Dot product </a></li>\n            <li><a href=\"#The-outer-product\">The outer product</a></li>\n            <li><a href=\"#Matrix-and-vector-multiplication\">Matrix and vector multiplication</a></li>\n            <li><a href=\"#Multiplying-matrices\">Multiplying matrices</a></li>\n     </ol>\n   </li>\n   <li>\n        <a href=\"#Eigen-decomposition\">Eigen-decomposition</a>\n        <ol>\n            <li><a href=\"#Eigenvectors-and-Eigenvalues\"> Eigenvectors and Eigenvalues </a></li>\n            <li><a href=\"#Factorization-for-PCA\">Factorization for PCA</a></li>\n        </ol>     \n   </li>\n\n </ol>    \n",
      "metadata": {}
    },
    {
      "cell_type": "markdown",
      "source": "***\n",
      "metadata": {}
    },
    {
      "cell_type": "markdown",
      "source": "## Objectives\n\nAfter completing this lab, you understand:\n\n*   Basic matrix operations such as matrix addition, vector multiplication, and Eigen decomposition\n\n*   How to apply these matrix operations using NumPy\n",
      "metadata": {}
    },
    {
      "cell_type": "markdown",
      "source": "## Setup\n",
      "metadata": {}
    },
    {
      "cell_type": "markdown",
      "source": "This lab uses the following libraries:\n\n*   [`NumPy`](https://numpy.org/?utm_medium=Exinfluencer&utm_source=Exinfluencer&utm_content=000026UJ&utm_term=10006555&utm_id=NA-SkillsNetwork-Channel-SkillsNetworkCoursesIBMML240ENSkillsNetwork34171862-2022-01-01) for mathematical operations\n*   [`Matplotlib`](https://matplotlib.org/?utm_medium=Exinfluencer&utm_source=Exinfluencer&utm_content=000026UJ&utm_term=10006555&utm_id=NA-SkillsNetwork-Channel-SkillsNetworkCoursesIBMML240ENSkillsNetwork34171862-2022-01-01) for visualizing the data\n*   [`sklearn`](https://scikit-learn.org/stable/?utm_medium=Exinfluencer&utm_source=Exinfluencer&utm_content=000026UJ&utm_term=10006555&utm_id=NA-SkillsNetwork-Channel-SkillsNetworkCoursesIBMML240ENSkillsNetwork34171862-2022-01-01) for machine learning and machine learning pipeline-related functions\n",
      "metadata": {}
    },
    {
      "cell_type": "markdown",
      "source": "### Installing required libraries\n",
      "metadata": {}
    },
    {
      "cell_type": "markdown",
      "source": "The following required modules are pre-installed in the Skills Network Labs environment. However, if you run this notebook's commands in a different Jupyter environment (for example, Watson Studio or Ananconda) you must install these libraries by removing the `#` sign before `!mamba` in the following code cell.\n",
      "metadata": {}
    },
    {
      "cell_type": "code",
      "source": "# All Libraries required for this lab are listed below. The libraries pre-installed on Skills Network Labs are commented.\n# !mamba install -qy pandas==1.3.4 numpy==1.21.4 seaborn==0.9.0 matplotlib==3.5.0 scikit-learn==0.20.1\n# Note: If your environment doesn't support \"!mamba install\", use \"!pip install pandas ==1.3.4 ...\"\n",
      "metadata": {},
      "outputs": [],
      "execution_count": null
    },
    {
      "cell_type": "markdown",
      "source": "You can install and use  <a href=\"https://www.sympy.org/en/index.html?utm_medium=Exinfluencer&utm_source=Exinfluencer&utm_content=000026UJ&utm_term=10006555&utm_id=NA-SkillsNetwork-Channel-SkillsNetworkCoursesIBMML0187ENSkillsNetwork31430127-2022-01-01\">SymPy </a> to print matrices by using the following `conda` command.\n",
      "metadata": {}
    },
    {
      "cell_type": "code",
      "source": "#!conda install -c anaconda sympy -y",
      "metadata": {},
      "outputs": [],
      "execution_count": null
    },
    {
      "cell_type": "markdown",
      "source": "### Importing required libraries\n",
      "metadata": {}
    },
    {
      "cell_type": "code",
      "source": "# Surpress warnings from using older version of sklearn:\ndef warn(*args, **kwargs):\n    pass\nimport warnings\nwarnings.warn = warn\n\nimport numpy as np \nimport matplotlib.pylab as plt\n\nfrom sklearn.decomposition import PCA\nfrom sympy import Matrix, init_printing,Symbol\nfrom numpy.linalg import qr,eig,inv,matrix_rank,inv, norm\nfrom scipy.linalg import null_space\ninit_printing()",
      "metadata": {
        "trusted": true
      },
      "outputs": [],
      "execution_count": 3
    },
    {
      "cell_type": "markdown",
      "source": "### Defining helper functions\n\nUse this section to define any helper functions to help the readability of the notebook's code.\n",
      "metadata": {}
    },
    {
      "cell_type": "code",
      "source": "def plot_2da(dict_):\n    for key, value in dict_.items():\n        plt.scatter(value[:, 0], value[:, 1],label=key)\n    plt.legend()\n    plt.show()\n    \ndef plot_2db(dict_):\n    for key, value in dict_.items():\n        if value.shape[0]>2:\n            plt.scatter(value[:, 0], value[:, 1],label=key)\n        else:\n            print(value)\n            plt.quiver([0],[0],value[:,0],value[:,1],label=key)\n    plt.legend()\n    plt.show()",
      "metadata": {
        "trusted": true
      },
      "outputs": [],
      "execution_count": 4
    },
    {
      "cell_type": "markdown",
      "source": "## Basics of matrices\n",
      "metadata": {}
    },
    {
      "cell_type": "markdown",
      "source": "### What's a matrix?\n",
      "metadata": {}
    },
    {
      "cell_type": "markdown",
      "source": "A matrix is just a horizontal stack of columns vectors or a vertical stack of row vectors. For example, a two-column matrix $\\mathbf{A}$ can be written as a horizontal stack of its two columns: $\\mathbf{A}=[\\mathbf{a}_{1},\\mathbf{a}_{2}]$, where $\\mathbf{a}_{i}$ is a column vector. `NumPy` treats matrix objects as NumPy arrays. You can use the `Matrix` function from `SymPy` to print matrices in a nice way.\n",
      "metadata": {}
    },
    {
      "cell_type": "code",
      "source": "A=np.array([[2,-3],[4,7]])\n\nMatrix(A)",
      "metadata": {
        "trusted": true
      },
      "outputs": [
        {
          "execution_count": 5,
          "output_type": "execute_result",
          "data": {
            "text/plain": "⎡2  -3⎤\n⎢     ⎥\n⎣4  7 ⎦",
            "text/latex": "$\\displaystyle \\left[\\begin{matrix}2 & -3\\\\4 & 7\\end{matrix}\\right]$"
          },
          "metadata": {}
        }
      ],
      "execution_count": 5
    },
    {
      "cell_type": "markdown",
      "source": "**Note**: In this particular case, matrix $\\mathbf{A}$ is a <b>square matrix</b> because it has an equal number of rows and columns.\n",
      "metadata": {}
    },
    {
      "cell_type": "markdown",
      "source": "You can subset matrix $\\mathbf{A}$ to pull out column vectors $\\mathbf{a}_{1}$ and $\\mathbf{a}_{2}$ using `NumPy`'s indexing syntax.\n",
      "metadata": {}
    },
    {
      "cell_type": "code",
      "source": "a1=A[:,0]\na1",
      "metadata": {
        "trusted": true
      },
      "outputs": [
        {
          "execution_count": 6,
          "output_type": "execute_result",
          "data": {
            "text/plain": "array([2, 4])"
          },
          "metadata": {}
        }
      ],
      "execution_count": 6
    },
    {
      "cell_type": "code",
      "source": "a2=A[:,1]\na2",
      "metadata": {
        "trusted": true
      },
      "outputs": [
        {
          "execution_count": 7,
          "output_type": "execute_result",
          "data": {
            "text/plain": "array([-3,  7])"
          },
          "metadata": {}
        }
      ],
      "execution_count": 7
    },
    {
      "cell_type": "markdown",
      "source": "A transpose of a matrix, denoted by $\\mathbf{A}^{T}$, switches the row and column indices of the matrix. In `NumPy` you can transpose matrix $\\mathbf{A}$ as follows:\n",
      "metadata": {}
    },
    {
      "cell_type": "code",
      "source": "AT=A.T\nMatrix(AT)",
      "metadata": {
        "trusted": true
      },
      "outputs": [
        {
          "execution_count": 8,
          "output_type": "execute_result",
          "data": {
            "text/plain": "⎡2   4⎤\n⎢     ⎥\n⎣-3  7⎦",
            "text/latex": "$\\displaystyle \\left[\\begin{matrix}2 & 4\\\\-3 & 7\\end{matrix}\\right]$"
          },
          "metadata": {}
        }
      ],
      "execution_count": 8
    },
    {
      "cell_type": "markdown",
      "source": "### Rank of a matrix\n",
      "metadata": {}
    },
    {
      "cell_type": "markdown",
      "source": "The rank of a matrix is the number of dimensions the rows of the matrix \"live in.\"  A square matrix is said to be **full rank** if its <a href='https://en.wikipedia.org/wiki/Rank_(linear_algebra)?utm_medium=Exinfluencer&utm_source=Exinfluencer&utm_content=000026UJ&utm_term=10006555&utm_id=NA-SkillsNetwork-Channel-SkillsNetworkCoursesIBMML0187ENSkillsNetwork31430127-2022-01-01'>rank</a> is equal to the number of its rows or columns. Using `NumPy`, you can find the rank of a matrix using:\n",
      "metadata": {}
    },
    {
      "cell_type": "code",
      "source": "matrix_rank(A)",
      "metadata": {
        "trusted": true
      },
      "outputs": [
        {
          "execution_count": 9,
          "output_type": "execute_result",
          "data": {
            "text/plain": "2"
          },
          "metadata": {}
        }
      ],
      "execution_count": 9
    },
    {
      "cell_type": "markdown",
      "source": "You can also plot the columns of matrix $\\mathbf{A}$ as vectors.\n",
      "metadata": {}
    },
    {
      "cell_type": "code",
      "source": "fig, ax = plt.subplots(figsize = (12, 7))\n\nax.quiver([0, 0],[0, 0],A[0,0], A[1,0],scale=30,label=\"$\\mathbf{a}_{1}$\")\nax.quiver([0, 0],[0, 0],A[0,1], A[1,1],scale=30,label=\"$\\mathbf{a}_{2}$\",color='red')\nplt.title(\"columns of $\\mathbf{A}$ \")\nplt.legend()\nplt.show()",
      "metadata": {
        "trusted": true
      },
      "outputs": [
        {
          "name": "stderr",
          "text": "<unknown>:3: SyntaxWarning: invalid escape sequence '\\m'\n<unknown>:4: SyntaxWarning: invalid escape sequence '\\m'\n<unknown>:5: SyntaxWarning: invalid escape sequence '\\m'\n<>:3: SyntaxWarning: invalid escape sequence '\\m'\n<>:4: SyntaxWarning: invalid escape sequence '\\m'\n<>:5: SyntaxWarning: invalid escape sequence '\\m'\n<>:3: SyntaxWarning: invalid escape sequence '\\m'\n<>:4: SyntaxWarning: invalid escape sequence '\\m'\n<>:5: SyntaxWarning: invalid escape sequence '\\m'\n<ipython-input-10-faf6f3e85582>:3: SyntaxWarning: invalid escape sequence '\\m'\n  ax.quiver([0, 0],[0, 0],A[0,0], A[1,0],scale=30,label=\"$\\mathbf{a}_{1}$\")\n<ipython-input-10-faf6f3e85582>:4: SyntaxWarning: invalid escape sequence '\\m'\n  ax.quiver([0, 0],[0, 0],A[0,1], A[1,1],scale=30,label=\"$\\mathbf{a}_{2}$\",color='red')\n<ipython-input-10-faf6f3e85582>:5: SyntaxWarning: invalid escape sequence '\\m'\n  plt.title(\"columns of $\\mathbf{A}$ \")\n",
          "output_type": "stream"
        },
        {
          "output_type": "display_data",
          "data": {
            "text/plain": "<Figure size 1200x700 with 1 Axes>",
            "image/png": "[encoded data removed]"
          },
          "metadata": {}
        }
      ],
      "execution_count": 10
    },
    {
      "cell_type": "markdown",
      "source": "Because the vectors are not parallel, you can define any point on the 2d space as a scaled  combination of those two vectors.\n\nIf any of the columns in a matrix are multiples of each other, the vectors point in the same direction and the matrix is not full rank (in other words, the matrix is **rank-deficient**). Vectors point in the same direction if one of the vectors is a linear combination of another.\n",
      "metadata": {}
    },
    {
      "cell_type": "code",
      "source": "F=np.array([[2,4],[4,8]])\nmatrix_rank(F)",
      "metadata": {
        "trusted": true
      },
      "outputs": [
        {
          "execution_count": 11,
          "output_type": "execute_result",
          "data": {
            "text/plain": "1"
          },
          "metadata": {}
        }
      ],
      "execution_count": 11
    },
    {
      "cell_type": "markdown",
      "source": "You can graph the vectors to see them pointing in the same direction.\n",
      "metadata": {}
    },
    {
      "cell_type": "code",
      "source": "fig, ax = plt.subplots(figsize = (12, 7))\nax.quiver([0, 0],[0, 0],F[0,1], F[1,1],scale=30,label=\"$\\mathbf{f}_{2}$\",color='red')\nax.quiver([0, 0],[0, 0],F[0,0], F[1,0],scale=30,label=\"$\\mathbf{f}_{1}$\")\nplt.title(\"columns of $\\mathbf{F}$ \")\nplt.legend()\nplt.show()",
      "metadata": {
        "trusted": true
      },
      "outputs": [
        {
          "name": "stderr",
          "text": "<unknown>:2: SyntaxWarning: invalid escape sequence '\\m'\n<unknown>:3: SyntaxWarning: invalid escape sequence '\\m'\n<unknown>:4: SyntaxWarning: invalid escape sequence '\\m'\n<>:2: SyntaxWarning: invalid escape sequence '\\m'\n<>:3: SyntaxWarning: invalid escape sequence '\\m'\n<>:4: SyntaxWarning: invalid escape sequence '\\m'\n<>:2: SyntaxWarning: invalid escape sequence '\\m'\n<>:3: SyntaxWarning: invalid escape sequence '\\m'\n<>:4: SyntaxWarning: invalid escape sequence '\\m'\n<ipython-input-12-17cf79a78ba3>:2: SyntaxWarning: invalid escape sequence '\\m'\n  ax.quiver([0, 0],[0, 0],F[0,1], F[1,1],scale=30,label=\"$\\mathbf{f}_{2}$\",color='red')\n<ipython-input-12-17cf79a78ba3>:3: SyntaxWarning: invalid escape sequence '\\m'\n  ax.quiver([0, 0],[0, 0],F[0,0], F[1,0],scale=30,label=\"$\\mathbf{f}_{1}$\")\n<ipython-input-12-17cf79a78ba3>:4: SyntaxWarning: invalid escape sequence '\\m'\n  plt.title(\"columns of $\\mathbf{F}$ \")\n",
          "output_type": "stream"
        },
        {
          "output_type": "display_data",
          "data": {
            "text/plain": "<Figure size 1200x700 with 1 Axes>",
            "image/png": "[encoded data removed]"
          },
          "metadata": {}
        }
      ],
      "execution_count": 12
    },
    {
      "cell_type": "markdown",
      "source": "Of course, rank deficiency can also occur if a column is a linear combination of several columns. For example:\n",
      "metadata": {}
    },
    {
      "cell_type": "code",
      "source": "G=np.array([[2,4,6],[6,4,2],[16,16,16]])\nmatrix_rank(G)",
      "metadata": {
        "trusted": true
      },
      "outputs": [
        {
          "execution_count": 13,
          "output_type": "execute_result",
          "data": {
            "text/plain": "2"
          },
          "metadata": {}
        }
      ],
      "execution_count": 13
    },
    {
      "cell_type": "markdown",
      "source": "In this case, $ \\mathbf{g}_3 = 2 \\mathbf{g}_1 + 2 \\mathbf{g}_2 $.\n",
      "metadata": {}
    },
    {
      "cell_type": "markdown",
      "source": "Although a matrix that has more columns than rows is possible, a more common occurrence in data science is a matrix that has more rows than columns. Consider the matrix $\\mathbf{F}$:\n",
      "metadata": {}
    },
    {
      "cell_type": "code",
      "source": "F=np.array([[1,2],[1,-2],[-1,1]])\nMatrix(F)",
      "metadata": {
        "trusted": true
      },
      "outputs": [
        {
          "execution_count": 14,
          "output_type": "execute_result",
          "data": {
            "text/plain": "⎡1   2 ⎤\n⎢      ⎥\n⎢1   -2⎥\n⎢      ⎥\n⎣-1  1 ⎦",
            "text/latex": "$\\displaystyle \\left[\\begin{matrix}1 & 2\\\\1 & -2\\\\-1 & 1\\end{matrix}\\right]$"
          },
          "metadata": {}
        }
      ],
      "execution_count": 14
    },
    {
      "cell_type": "markdown",
      "source": "Although there are 3 rows in matrix $\\mathbf{F}$, you can only describe a point lying on a 2D plane, as shown in the following example.\n",
      "metadata": {}
    },
    {
      "cell_type": "code",
      "source": "ax = plt.figure().add_subplot(projection='3d')\np=null_space(F.T)\nxx, yy = np.meshgrid(np.arange(-3,3,0.1), np.arange(-3,3,0.1))\nz=(p[0]*xx+p[1]*yy)/p[2]\nax.plot_surface(xx, yy, z, alpha=0.1)\nax.quiver([0,0], [0,0], [0,0], F[0,:], F[1,:], F[2,:])\n\nax.set_xlim([-3, 3])\nax.set_ylim([-3, 3])\nax.set_zlim([-3, 3])\nplt.show()",
      "metadata": {
        "trusted": true
      },
      "outputs": [
        {
          "output_type": "display_data",
          "data": {
            "text/plain": "<Figure size 640x480 with 1 Axes>",
            "image/png": "[encoded data removed]"
          },
          "metadata": {}
        }
      ],
      "execution_count": 15
    },
    {
      "cell_type": "markdown",
      "source": "Therefore, the rank of such a matrix is 2. You can verify this using `NumPy`.\n",
      "metadata": {}
    },
    {
      "cell_type": "code",
      "source": "matrix_rank(F)",
      "metadata": {
        "trusted": true
      },
      "outputs": [
        {
          "execution_count": 16,
          "output_type": "execute_result",
          "data": {
            "text/plain": "2"
          },
          "metadata": {}
        }
      ],
      "execution_count": 16
    },
    {
      "cell_type": "markdown",
      "source": "### Frobenius norm of a matrix\n",
      "metadata": {}
    },
    {
      "cell_type": "markdown",
      "source": "The **Frobenius norm**, sometimes called the **Euclidean norm**, is the matrix norm of an $m×n$ matrix $\\mathbf{A}$, where matrix $\\mathbf{A}$ is defined as the square root of the sum of the absolute squares of its elements.\n\n$$||\\mathbf{A}||_F = \\sqrt{\\sum_{i=1}^m \\sum_{j=1}^n |a_{ij}|^2}$$\n\nReusing matrix $\\mathbf{A}$ that was defined above:\n",
      "metadata": {}
    },
    {
      "cell_type": "code",
      "source": "Matrix(A), norm(A)",
      "metadata": {
        "trusted": true
      },
      "outputs": [
        {
          "execution_count": 17,
          "output_type": "execute_result",
          "data": {
            "text/plain": "⎛⎡2  -3⎤                   ⎞\n⎜⎢     ⎥, 8.831760866327848⎟\n⎝⎣4  7 ⎦                   ⎠",
            "text/latex": "$\\displaystyle \\left( \\left[\\begin{matrix}2 & -3\\\\4 & 7\\end{matrix}\\right], \\  8.83176086632785\\right)$"
          },
          "metadata": {}
        }
      ],
      "execution_count": 17
    },
    {
      "cell_type": "markdown",
      "source": "The matrix norm can also be calculated manually using the provided formula\n",
      "metadata": {}
    },
    {
      "cell_type": "code",
      "source": "m, n = A.shape[0], A.shape[1] # get number of rows and columns \nsumsquares = 0\n\nfor i in range(m):\n    for j in range(n):\n        sumsquares += A[i,j] ** 2\nnp.sqrt(sumsquares)",
      "metadata": {
        "trusted": true
      },
      "outputs": [
        {
          "execution_count": 18,
          "output_type": "execute_result",
          "data": {
            "text/plain": "8.831760866327848",
            "image/png": "[encoded data removed]",
            "text/latex": "$\\displaystyle 8.83176086632785$"
          },
          "metadata": {}
        }
      ],
      "execution_count": 18
    },
    {
      "cell_type": "markdown",
      "source": "### Matrix ddition\n",
      "metadata": {}
    },
    {
      "cell_type": "markdown",
      "source": "Addition is only defined for two matrices that have an equal number of rows and columns. Consider two matrices $\\mathbf{A}$ and $\\mathbf{B}$:\n",
      "metadata": {}
    },
    {
      "cell_type": "markdown",
      "source": "$\\begin{align}\n\\mathbf{A}= \\begin{bmatrix}\na_{11} & a_{12} & \\cdots & a_{1n} \\\\\\\\\\\\\na_{21} & a_{22} & \\cdots & a_{2n} \\\\\\\\\n\\vdots & \\vdots & \\ddots & \\vdots \\\\\\\\\na_{m1} & a_{m2} & \\cdots & a_{mn} \\\\\\\\\n\\end{bmatrix}\n\\end{align}$\n$\\begin{align}\n\\mathbf{B}=\\begin{bmatrix}\nb_{11} & b_{12} & \\cdots & b_{1n} \\\\\\\\\nb_{21} & b_{22} & \\cdots & b_{2n} \\\\\\\\\n\\vdots & \\vdots & \\ddots & \\vdots \\\\\\\\\nb_{m1} & b_{m2} & \\cdots & b_{mn} \\\\\\\\\n\\end{bmatrix}\n\\end{align}$\n",
      "metadata": {}
    },
    {
      "cell_type": "markdown",
      "source": "To perform the addition, you add elements that have identical row and column indices.\n",
      "metadata": {}
    },
    {
      "cell_type": "markdown",
      "source": "$\\begin{align}\n\\mathbf{A}+\\mathbf{B}=\\begin{bmatrix}\na_{11} + b_{11} & a_{12} + b_{12} & \\cdots & a_{1n} + b_{1n} \\\\\\\\\\\\\na_{21} + b_{21} & a_{22} + b_{22} & \\cdots & a_{2n} + b_{2n} \\\\\\\\\n\\vdots & \\vdots & \\ddots & \\vdots \\\\\\\\\na_{m1} + b_{m1} & a_{m2} + b_{m2} & \\cdots & a_{mn} + b_{mn} \\\\\\\\\n\\end{bmatrix}\n\\end{align}$\n",
      "metadata": {}
    },
    {
      "cell_type": "markdown",
      "source": "In `NumPy`, if you reuse matrix $\\mathbf{A}$ from before and define matrix $\\mathbf{B}$ as follows:\n",
      "metadata": {}
    },
    {
      "cell_type": "code",
      "source": "B=np.array([[1,1],[1,-1]])\nMatrix(B)",
      "metadata": {
        "trusted": true
      },
      "outputs": [
        {
          "execution_count": 19,
          "output_type": "execute_result",
          "data": {
            "text/plain": "⎡1  1 ⎤\n⎢     ⎥\n⎣1  -1⎦",
            "text/latex": "$\\displaystyle \\left[\\begin{matrix}1 & 1\\\\1 & -1\\end{matrix}\\right]$"
          },
          "metadata": {}
        }
      ],
      "execution_count": 19
    },
    {
      "cell_type": "markdown",
      "source": "you can perform the addition using:\n",
      "metadata": {}
    },
    {
      "cell_type": "code",
      "source": "C=A+B\nMatrix(C)",
      "metadata": {
        "trusted": true
      },
      "outputs": [
        {
          "execution_count": 20,
          "output_type": "execute_result",
          "data": {
            "text/plain": "⎡3  -2⎤\n⎢     ⎥\n⎣5  6 ⎦",
            "text/latex": "$\\displaystyle \\left[\\begin{matrix}3 & -2\\\\5 & 6\\end{matrix}\\right]$"
          },
          "metadata": {}
        }
      ],
      "execution_count": 20
    },
    {
      "cell_type": "markdown",
      "source": "Matrix $\\mathbf{B}$ defined previously is **symmetric**. This means that $\\mathbf{B}=\\mathbf{B}^{T}$. You can verify this using Python.\n",
      "metadata": {}
    },
    {
      "cell_type": "code",
      "source": "B_T=B.T\nMatrix(B_T)",
      "metadata": {
        "trusted": true
      },
      "outputs": [
        {
          "execution_count": 21,
          "output_type": "execute_result",
          "data": {
            "text/plain": "⎡1  1 ⎤\n⎢     ⎥\n⎣1  -1⎦",
            "text/latex": "$\\displaystyle \\left[\\begin{matrix}1 & 1\\\\1 & -1\\end{matrix}\\right]$"
          },
          "metadata": {}
        }
      ],
      "execution_count": 21
    },
    {
      "cell_type": "markdown",
      "source": "A symmetric matrix $\\mathbf{S}$ can be created using $\\mathbf{S}=\\mathbf{C}+\\mathbf{C}^T$, where $\\mathbf{C}$ is any matrix.\n",
      "metadata": {}
    },
    {
      "cell_type": "code",
      "source": "C=np.random.randn(2,2)\nS=C+C.T",
      "metadata": {
        "trusted": true
      },
      "outputs": [],
      "execution_count": 22
    },
    {
      "cell_type": "code",
      "source": "Matrix(S)",
      "metadata": {
        "trusted": true
      },
      "outputs": [
        {
          "execution_count": 23,
          "output_type": "execute_result",
          "data": {
            "text/plain": "⎡0.89959533290702   0.510567536340365⎤\n⎢                                    ⎥\n⎣0.510567536340365  -2.3188989807366 ⎦",
            "text/latex": "$\\displaystyle \\left[\\begin{matrix}0.89959533290702 & 0.510567536340365\\\\0.510567536340365 & -2.3188989807366\\end{matrix}\\right]$"
          },
          "metadata": {}
        }
      ],
      "execution_count": 23
    },
    {
      "cell_type": "code",
      "source": "Matrix(S.T)",
      "metadata": {
        "trusted": true
      },
      "outputs": [
        {
          "execution_count": 24,
          "output_type": "execute_result",
          "data": {
            "text/plain": "⎡0.89959533290702   0.510567536340365⎤\n⎢                                    ⎥\n⎣0.510567536340365  -2.3188989807366 ⎦",
            "text/latex": "$\\displaystyle \\left[\\begin{matrix}0.89959533290702 & 0.510567536340365\\\\0.510567536340365 & -2.3188989807366\\end{matrix}\\right]$"
          },
          "metadata": {}
        }
      ],
      "execution_count": 24
    },
    {
      "cell_type": "markdown",
      "source": "A <b>diagonal matrix</b> is a matrix in which the entries off the main diagonal are all zero.\n",
      "metadata": {}
    },
    {
      "cell_type": "code",
      "source": "Matrix(np.diag(np.array([1,2,3])))",
      "metadata": {
        "trusted": true
      },
      "outputs": [
        {
          "execution_count": 25,
          "output_type": "execute_result",
          "data": {
            "text/plain": "⎡1  0  0⎤\n⎢       ⎥\n⎢0  2  0⎥\n⎢       ⎥\n⎣0  0  3⎦",
            "text/latex": "$\\displaystyle \\left[\\begin{matrix}1 & 0 & 0\\\\0 & 2 & 0\\\\0 & 0 & 3\\end{matrix}\\right]$"
          },
          "metadata": {}
        }
      ],
      "execution_count": 25
    },
    {
      "cell_type": "markdown",
      "source": "A matrix where all entries on the main diagonal are equal to one and all the entries off the main diagonal are zero is called an **identity matrix**. In `NumPy`, an identity matrix can be created by using:\n",
      "metadata": {}
    },
    {
      "cell_type": "code",
      "source": "Matrix(np.eye(3).astype(int))",
      "metadata": {
        "trusted": true
      },
      "outputs": [
        {
          "execution_count": 26,
          "output_type": "execute_result",
          "data": {
            "text/plain": "⎡1  0  0⎤\n⎢       ⎥\n⎢0  1  0⎥\n⎢       ⎥\n⎣0  0  1⎦",
            "text/latex": "$\\displaystyle \\left[\\begin{matrix}1 & 0 & 0\\\\0 & 1 & 0\\\\0 & 0 & 1\\end{matrix}\\right]$"
          },
          "metadata": {}
        }
      ],
      "execution_count": 26
    },
    {
      "cell_type": "markdown",
      "source": "## Matrix and vector multiplication\n",
      "metadata": {}
    },
    {
      "cell_type": "markdown",
      "source": "### Dot product\n",
      "metadata": {}
    },
    {
      "cell_type": "markdown",
      "source": "Given two equal length column vectors $\\mathbf{a}$ and $\\mathbf{b}$, you can define their dot product as:\n",
      "metadata": {}
    },
    {
      "cell_type": "markdown",
      "source": "$ \\mathbf{a}^T \\cdot \\mathbf{b} = \\mathbf{a}^T  \\mathbf{b} = \\sum_{i=1}^n a_i b_i = a_1 b_1 + \\cdots + a_n b_n$\n",
      "metadata": {}
    },
    {
      "cell_type": "markdown",
      "source": "Vectors in `NumPy` can be defined as one-dimensional arrays.\n",
      "metadata": {}
    },
    {
      "cell_type": "code",
      "source": "a=np.array([1,1])\nb=np.array([1,2])\nMatrix(a)",
      "metadata": {
        "trusted": true
      },
      "outputs": [
        {
          "execution_count": 27,
          "output_type": "execute_result",
          "data": {
            "text/plain": "⎡1⎤\n⎢ ⎥\n⎣1⎦",
            "text/latex": "$\\displaystyle \\left[\\begin{matrix}1\\\\1\\end{matrix}\\right]$"
          },
          "metadata": {}
        }
      ],
      "execution_count": 27
    },
    {
      "cell_type": "markdown",
      "source": "To verify that the dimension of a vector is indeed one, use:\n",
      "metadata": {}
    },
    {
      "cell_type": "code",
      "source": "a.ndim",
      "metadata": {
        "trusted": true
      },
      "outputs": [
        {
          "execution_count": 28,
          "output_type": "execute_result",
          "data": {
            "text/plain": "1",
            "image/png": "[encoded data removed]",
            "text/latex": "$\\displaystyle 1$"
          },
          "metadata": {}
        }
      ],
      "execution_count": 28
    },
    {
      "cell_type": "markdown",
      "source": "And, to find the dot product, use:\n",
      "metadata": {}
    },
    {
      "cell_type": "code",
      "source": "a.T@b",
      "metadata": {
        "trusted": true
      },
      "outputs": [
        {
          "execution_count": 29,
          "output_type": "execute_result",
          "data": {
            "text/plain": "3"
          },
          "metadata": {}
        }
      ],
      "execution_count": 29
    },
    {
      "cell_type": "markdown",
      "source": "### Exercise 1\n\nCalculate the dot product of vectors $\\mathbf{a}$ and $\\mathbf{one}$.\n",
      "metadata": {}
    },
    {
      "cell_type": "code",
      "source": "one=np.ones(2)\n\n### Insert your solution here ###\na.T@one",
      "metadata": {
        "trusted": true
      },
      "outputs": [
        {
          "execution_count": 31,
          "output_type": "execute_result",
          "data": {
            "text/plain": "2.0",
            "image/png": "[encoded data removed]",
            "text/latex": "$\\displaystyle 2.0$"
          },
          "metadata": {}
        }
      ],
      "execution_count": 31
    },
    {
      "cell_type": "markdown",
      "source": "<details>\n    <summary>Click here for solution</summary>\n\n```python\na.T@one\n```\n\n</details>\n",
      "metadata": {}
    },
    {
      "cell_type": "markdown",
      "source": "### The outer product\n",
      "metadata": {}
    },
    {
      "cell_type": "markdown",
      "source": "The outer product is another useful matrix operation. Consider a vector $ \\mathbf{u}$ of size $m \\times 1$ and a vector $\\mathbf{v}$ of size $n \\times 1$. Then, their outer product is:\n",
      "metadata": {}
    },
    {
      "cell_type": "markdown",
      "source": "$\n\\mathbf{u} \\otimes \\mathbf{v} = \\mathbf{u}\\mathbf{v}^\\textsf{T} =\n\\begin{bmatrix}u_1 \\\\\\\\\\\\ u_2 \\\\ \\vdots \\\\ u_m\\end{bmatrix}\n\\begin{bmatrix}v_1 & v_2 & ... & v_n\\end{bmatrix} =\n\\begin{bmatrix}\nu_1 v_1 & u_1 v_2 & ... & u_1 v_n\\\\\\\\\nu_2 v_1 & u_2 v_2 & ... & u_2 v_n \\\\\\\\\n\\vdots & \\vdots  & \\ddots & \\vdots \\\\\\\\\nu_m v_1 & u_m v_2 &  ... & u_m v_n\n\\end{bmatrix}\n$\n",
      "metadata": {}
    },
    {
      "cell_type": "markdown",
      "source": "You can perform the outer product in `NumPy` as follows:\n",
      "metadata": {}
    },
    {
      "cell_type": "code",
      "source": "u= np.array([[1],[2],[3],[4]])\nv= np.array([[0],[1],[2],[3],[6]])\n\n### Insert your solution here ###\nMatrix(u@v.T)",
      "metadata": {
        "trusted": true
      },
      "outputs": [
        {
          "execution_count": 35,
          "output_type": "execute_result",
          "data": {
            "text/plain": "⎡0  1  2  3   6 ⎤\n⎢               ⎥\n⎢0  2  4  6   12⎥\n⎢               ⎥\n⎢0  3  6  9   18⎥\n⎢               ⎥\n⎣0  4  8  12  24⎦",
            "text/latex": "$\\displaystyle \\left[\\begin{matrix}0 & 1 & 2 & 3 & 6\\\\0 & 2 & 4 & 6 & 12\\\\0 & 3 & 6 & 9 & 18\\\\0 & 4 & 8 & 12 & 24\\end{matrix}\\right]$"
          },
          "metadata": {}
        }
      ],
      "execution_count": 35
    },
    {
      "cell_type": "markdown",
      "source": "<details>\n    <summary>Click here for solution</summary>\n\n```python\nMatrix(u@v.T)\n```\n\n</details>\n",
      "metadata": {}
    },
    {
      "cell_type": "markdown",
      "source": "### Exercise 2\n\nCreate a matrix with 4 columns where each even column is the vector $\\mathbf{u}$, else it is a vector of zeros. Show that the rank of this matrix is one.\n",
      "metadata": {}
    },
    {
      "cell_type": "code",
      "source": "u=np.array([[1],[2]])\n\n### Insert your solution here ###\nU = Matrix(u@np.array([[0,1,0,1]]))\nprint('The randk is:' + str(matrix_rank(np.array(U).astype(float))))\nU",
      "metadata": {
        "trusted": true
      },
      "outputs": [
        {
          "name": "stdout",
          "text": "The randk is:1\n",
          "output_type": "stream"
        },
        {
          "execution_count": 36,
          "output_type": "execute_result",
          "data": {
            "text/plain": "⎡0  1  0  1⎤\n⎢          ⎥\n⎣0  2  0  2⎦",
            "text/latex": "$\\displaystyle \\left[\\begin{matrix}0 & 1 & 0 & 1\\\\0 & 2 & 0 & 2\\end{matrix}\\right]$"
          },
          "metadata": {}
        }
      ],
      "execution_count": 36
    },
    {
      "cell_type": "markdown",
      "source": "<details>\n    <summary>Click here for solution</summary>\n\n```python\nU = Matrix(u@np.array([[0,1,0,1]]))\nprint('The rank is: ' + str(matrix_rank(np.array(U).astype(float))))\nU\n```\n\n</details>\n",
      "metadata": {}
    },
    {
      "cell_type": "markdown",
      "source": "### Matrix and vector multiplication\n",
      "metadata": {}
    },
    {
      "cell_type": "markdown",
      "source": "You can also multiply a matrix by a vector and get a new vector. Consider the $n \\times 1$ vector $\\mathbf{x}$:\n",
      "metadata": {}
    },
    {
      "cell_type": "markdown",
      "source": "$\n\\mathbf{x}=\n\\begin{bmatrix}\nx_1 \\\\\\\\\\\\\nx_2 \\\\\\\\\n\\vdots \\\\\\\\\nx_n\n\\end{bmatrix}\n$\n",
      "metadata": {}
    },
    {
      "cell_type": "markdown",
      "source": "The following $\\mathbf{Ax}=\\mathbf b$  matrix multiplication  is defined as the dot product of vector $\\mathbf{x}$ with each row of $\\mathbf{A}$, an $m \\times n$ matrix:\n",
      "metadata": {}
    },
    {
      "cell_type": "markdown",
      "source": "$\n\\begin{bmatrix}\na_{11}x_1+\\cdots + a_{1n}x_n=b_1\n\\\\\\\\\\\\ a_{21}x_1+\\cdots + a_{2n}x_n =b_2\n\\\\\\\\ \\vdots\n\\\\\\\\ a_{m1}x_1+\\cdots + a_{mn}x_n =b_m\n\\end{bmatrix}\n$\n",
      "metadata": {}
    },
    {
      "cell_type": "markdown",
      "source": "Where\n",
      "metadata": {}
    },
    {
      "cell_type": "markdown",
      "source": "$\n\\mathbf{b}=\n\\begin{bmatrix}\nb_1 \\\\\\\\\\\\\nb_2 \\\\\\\\\n\\vdots \\\\\\\\\nb_m\n\\end{bmatrix}\n$\n",
      "metadata": {}
    },
    {
      "cell_type": "markdown",
      "source": "In `NumPy`:\n",
      "metadata": {}
    },
    {
      "cell_type": "code",
      "source": "x=np.array([1,1])\nx",
      "metadata": {
        "trusted": true
      },
      "outputs": [
        {
          "execution_count": 37,
          "output_type": "execute_result",
          "data": {
            "text/plain": "array([1, 1])"
          },
          "metadata": {}
        }
      ],
      "execution_count": 37
    },
    {
      "cell_type": "code",
      "source": "A=np.array([[0,-1],[1,0]])\nMatrix(A)",
      "metadata": {
        "trusted": true
      },
      "outputs": [
        {
          "execution_count": 38,
          "output_type": "execute_result",
          "data": {
            "text/plain": "⎡0  -1⎤\n⎢     ⎥\n⎣1  0 ⎦",
            "text/latex": "$\\displaystyle \\left[\\begin{matrix}0 & -1\\\\1 & 0\\end{matrix}\\right]$"
          },
          "metadata": {}
        }
      ],
      "execution_count": 38
    },
    {
      "cell_type": "code",
      "source": "b=A@x\nMatrix(b)",
      "metadata": {
        "trusted": true
      },
      "outputs": [
        {
          "execution_count": 39,
          "output_type": "execute_result",
          "data": {
            "text/plain": "⎡-1⎤\n⎢  ⎥\n⎣1 ⎦",
            "text/latex": "$\\displaystyle \\left[\\begin{matrix}-1\\\\1\\end{matrix}\\right]$"
          },
          "metadata": {}
        }
      ],
      "execution_count": 39
    },
    {
      "cell_type": "markdown",
      "source": "You see that vector $\\mathbf{b}$ is a combination of the columns of $\\mathbf{A}$ with the weights from vector $\\mathbf{x}$.\n\n$\\mathbf{b}=x_{1}\\mathbf{a}_{1}+x_{2}\\mathbf{a}_{2}$\n",
      "metadata": {}
    },
    {
      "cell_type": "markdown",
      "source": "If, for some angle $\\theta$, matrix $\\mathbf{A}$ can be constructed as:\n\n$\\begin{align}\n\\mathbf{A}= \\begin{bmatrix}\ncos \\theta & -sin \\theta \\\\\\\\\\\\\nsin \\theta & cos \\theta\n\\end{bmatrix}\n\\end{align}$\n\nThen $\\mathbf{A}$ is known as a [rotation matrix](https://en.wikipedia.org/wiki/Rotation_matrix). If $\\mathbf{A}$ is a rotation matrix, then vector $\\mathbf{b}$ is a rotation of vector $\\mathbf{x}$ by $\\theta$ degrees counterclockwise if $\\theta$ is positive, or clockwise if $\\theta$ is negative.\n\nFor example, note that\n$\\begin{align}\n\\mathbf{A}= \\begin{bmatrix}\n0 & -1 \\\\\\\\\n1 & 0\n\\end{bmatrix}\n\\end{align}$\nis a rotation matrix for $\\theta = 90$. Thus, vector $\\mathbf{b}$ is just a 90-degree counterclockwise rotation of vector $\\mathbf{x}$.\n",
      "metadata": {}
    },
    {
      "cell_type": "code",
      "source": "fig, ax = plt.subplots(figsize = (12, 7))\nax.quiver([0, 0],[0, 0],A[0,0], A[1,0],scale=10,label=\"$\\mathbf{a}_{1}$\")\nax.quiver([0, 0],[0, 0],A[0,1], A[1,1],scale=10,label=\"$\\mathbf{a}_{2}$\")\nax.quiver([0,0],[0,0],b[0], b[1],scale=10,label=\"$\\mathbf{b}$\",color='r')\nax.quiver([0,0],[0,0],x[0], x[1],scale=10,label=\"$\\mathbf{x}$\",color='b')\nax.set_xlim([-10,10])\nax.set_ylim([-5,10])\nfig.legend()\nplt.show()",
      "metadata": {
        "trusted": true
      },
      "outputs": [
        {
          "name": "stderr",
          "text": "<unknown>:2: SyntaxWarning: invalid escape sequence '\\m'\n<unknown>:3: SyntaxWarning: invalid escape sequence '\\m'\n<unknown>:4: SyntaxWarning: invalid escape sequence '\\m'\n<unknown>:5: SyntaxWarning: invalid escape sequence '\\m'\n<>:2: SyntaxWarning: invalid escape sequence '\\m'\n<>:3: SyntaxWarning: invalid escape sequence '\\m'\n<>:4: SyntaxWarning: invalid escape sequence '\\m'\n<>:5: SyntaxWarning: invalid escape sequence '\\m'\n<>:2: SyntaxWarning: invalid escape sequence '\\m'\n<>:3: SyntaxWarning: invalid escape sequence '\\m'\n<>:4: SyntaxWarning: invalid escape sequence '\\m'\n<>:5: SyntaxWarning: invalid escape sequence '\\m'\n<ipython-input-40-67ce6b99aeb0>:2: SyntaxWarning: invalid escape sequence '\\m'\n  ax.quiver([0, 0],[0, 0],A[0,0], A[1,0],scale=10,label=\"$\\mathbf{a}_{1}$\")\n<ipython-input-40-67ce6b99aeb0>:3: SyntaxWarning: invalid escape sequence '\\m'\n  ax.quiver([0, 0],[0, 0],A[0,1], A[1,1],scale=10,label=\"$\\mathbf{a}_{2}$\")\n<ipython-input-40-67ce6b99aeb0>:4: SyntaxWarning: invalid escape sequence '\\m'\n  ax.quiver([0,0],[0,0],b[0], b[1],scale=10,label=\"$\\mathbf{b}$\",color='r')\n<ipython-input-40-67ce6b99aeb0>:5: SyntaxWarning: invalid escape sequence '\\m'\n  ax.quiver([0,0],[0,0],x[0], x[1],scale=10,label=\"$\\mathbf{x}$\",color='b')\n",
          "output_type": "stream"
        },
        {
          "output_type": "display_data",
          "data": {
            "text/plain": "<Figure size 1200x700 with 1 Axes>",
            "image/png": "[encoded data removed]"
          },
          "metadata": {}
        }
      ],
      "execution_count": 40
    },
    {
      "cell_type": "markdown",
      "source": "Matrices $\\mathbf{A}$ that, for any angle $\\theta$, cannot be constructed using \n\n$\\begin{align}\n\\mathbf{A}= \\begin{bmatrix}\ncos \\theta & -sin \\theta \\\\\\\\\\\\\nsin \\theta & cos \\theta\n\\end{bmatrix}\n\\end{align}$\n\nare not rotation matrices. Evaluating $\\mathbf{Ax}=\\mathbf b$ for these matrices will cause $\\mathbf{b}$ to be longer or shorter than $\\mathbf{x}$.\n\nFor example, \n$\\begin{align}\n\\mathbf{A}= \\begin{bmatrix}\n-1 & 1 \\\\\\\\\n1 & 2\n\\end{bmatrix}\n\\end{align}$\nis a not a rotation matrix, as you can see using the following diagram:\n",
      "metadata": {}
    },
    {
      "cell_type": "code",
      "source": "A=np.array([[-1,1],[1,2]])\nMatrix(A)",
      "metadata": {
        "trusted": true
      },
      "outputs": [
        {
          "execution_count": 41,
          "output_type": "execute_result",
          "data": {
            "text/plain": "⎡-1  1⎤\n⎢     ⎥\n⎣1   2⎦",
            "text/latex": "$\\displaystyle \\left[\\begin{matrix}-1 & 1\\\\1 & 2\\end{matrix}\\right]$"
          },
          "metadata": {}
        }
      ],
      "execution_count": 41
    },
    {
      "cell_type": "code",
      "source": "b=A@x\nMatrix(b)",
      "metadata": {
        "trusted": true
      },
      "outputs": [
        {
          "execution_count": 42,
          "output_type": "execute_result",
          "data": {
            "text/plain": "⎡0⎤\n⎢ ⎥\n⎣3⎦",
            "text/latex": "$\\displaystyle \\left[\\begin{matrix}0\\\\3\\end{matrix}\\right]$"
          },
          "metadata": {}
        }
      ],
      "execution_count": 42
    },
    {
      "cell_type": "code",
      "source": "fig, ax = plt.subplots(figsize = (12, 7))\nax.quiver([0, 0],[0, 0],A[0,0], A[1,0],scale=10,label=\"$\\mathbf{a}_{1}$\")\nax.quiver([0, 0],[0, 0],A[0,1], A[1,1],scale=10,label=\"$\\mathbf{a}_{2}$\")\nax.quiver([0,0],[0,0],b[0], b[1],scale=10,label=\"$\\mathbf{b}$\",color='r')\nax.quiver([0,0],[0,0],x[0], x[1],scale=10,label=\"$\\mathbf{x}$\",color='b')\nax.set_xlim([-10,10])\nax.set_ylim([-5,10])\nfig.legend()\nplt.show()",
      "metadata": {
        "trusted": true
      },
      "outputs": [
        {
          "name": "stderr",
          "text": "<unknown>:2: SyntaxWarning: invalid escape sequence '\\m'\n<unknown>:3: SyntaxWarning: invalid escape sequence '\\m'\n<unknown>:4: SyntaxWarning: invalid escape sequence '\\m'\n<unknown>:5: SyntaxWarning: invalid escape sequence '\\m'\n<>:2: SyntaxWarning: invalid escape sequence '\\m'\n<>:3: SyntaxWarning: invalid escape sequence '\\m'\n<>:4: SyntaxWarning: invalid escape sequence '\\m'\n<>:5: SyntaxWarning: invalid escape sequence '\\m'\n<>:2: SyntaxWarning: invalid escape sequence '\\m'\n<>:3: SyntaxWarning: invalid escape sequence '\\m'\n<>:4: SyntaxWarning: invalid escape sequence '\\m'\n<>:5: SyntaxWarning: invalid escape sequence '\\m'\n<ipython-input-43-67ce6b99aeb0>:2: SyntaxWarning: invalid escape sequence '\\m'\n  ax.quiver([0, 0],[0, 0],A[0,0], A[1,0],scale=10,label=\"$\\mathbf{a}_{1}$\")\n<ipython-input-43-67ce6b99aeb0>:3: SyntaxWarning: invalid escape sequence '\\m'\n  ax.quiver([0, 0],[0, 0],A[0,1], A[1,1],scale=10,label=\"$\\mathbf{a}_{2}$\")\n<ipython-input-43-67ce6b99aeb0>:4: SyntaxWarning: invalid escape sequence '\\m'\n  ax.quiver([0,0],[0,0],b[0], b[1],scale=10,label=\"$\\mathbf{b}$\",color='r')\n<ipython-input-43-67ce6b99aeb0>:5: SyntaxWarning: invalid escape sequence '\\m'\n  ax.quiver([0,0],[0,0],x[0], x[1],scale=10,label=\"$\\mathbf{x}$\",color='b')\n",
          "output_type": "stream"
        },
        {
          "output_type": "display_data",
          "data": {
            "text/plain": "<Figure size 1200x700 with 1 Axes>",
            "image/png": "[encoded data removed]"
          },
          "metadata": {}
        }
      ],
      "execution_count": 43
    },
    {
      "cell_type": "markdown",
      "source": "### Multiplying matrices\n",
      "metadata": {}
    },
    {
      "cell_type": "markdown",
      "source": "If a matrix $\\mathbf{C}$ is the product of matrix $\\mathbf{A}$ with dimensions $m \\times n$ and matrix $\\mathbf{B}$ with dimensions $n \\times p$, then the $i$th row $j$th column of $\\mathbf{C}$ is obtained by multiplying term-by-term the entries of the $i$th row of $\\mathbf{A}$ and the $j$th column of $\\mathbf{B}$, and summing the $n$ products. In other words, you can also think of the  $i$th row $j$th column of $\\mathbf{C}$ as the dot product of the $i$th row of $\\mathbf{A}$  and the $j$th column of $\\mathbf{B}$. The resulting matrix $\\mathbf{C}$ will have dimensions $m \\times p$.\n",
      "metadata": {}
    },
    {
      "cell_type": "markdown",
      "source": "$\\mathbf{C}=\\mathbf{AB}$\n\n$\\mathbf{C}=\\begin{pmatrix}\na_{11}b_{11} +\\cdots + a_{1n}b_{n1} & a_{11}b_{12} +\\cdots + a_{1n}b_{n2} & \\cdots & a_{11}b_{1p} +\\cdots + a_{1n}b_{np} \\\\\\\\\\\\\na_{21}b_{11} +\\cdots + a_{2n}b_{n1} & a_{21}b_{12} +\\cdots + a_{2n}b_{n2} & \\cdots & a_{21}b_{1p} +\\cdots + a_{2n}b_{np} \\\\\\\\\n\\vdots & \\vdots & \\ddots & \\vdots \\\\\\\\\na_{m1}b_{11} +\\cdots + a_{mn}b_{n1} & a_{m1}b_{12} +\\cdots + a_{mn}b_{n2} & \\cdots & a_{m1}b_{1p} +\\cdots + a_{mn}b_{np} \\\\\\\\\n\\end{pmatrix} $\n",
      "metadata": {}
    },
    {
      "cell_type": "code",
      "source": "C=A@B\nMatrix(C)",
      "metadata": {
        "trusted": true
      },
      "outputs": [
        {
          "execution_count": 44,
          "output_type": "execute_result",
          "data": {
            "text/plain": "⎡0  -2⎤\n⎢     ⎥\n⎣3  -1⎦",
            "text/latex": "$\\displaystyle \\left[\\begin{matrix}0 & -2\\\\3 & -1\\end{matrix}\\right]$"
          },
          "metadata": {}
        }
      ],
      "execution_count": 44
    },
    {
      "cell_type": "markdown",
      "source": "If a square matrix is full rank, it can be inverted: $\\mathbf{A}^{-1}$.\n",
      "metadata": {}
    },
    {
      "cell_type": "code",
      "source": "A_inv=inv(A)\nMatrix(A_inv)",
      "metadata": {
        "trusted": true
      },
      "outputs": [
        {
          "execution_count": 45,
          "output_type": "execute_result",
          "data": {
            "text/plain": "⎡-0.666666666666667  0.333333333333333⎤\n⎢                                     ⎥\n⎣0.333333333333333   0.333333333333333⎦",
            "text/latex": "$\\displaystyle \\left[\\begin{matrix}-0.666666666666667 & 0.333333333333333\\\\0.333333333333333 & 0.333333333333333\\end{matrix}\\right]$"
          },
          "metadata": {}
        }
      ],
      "execution_count": 45
    },
    {
      "cell_type": "markdown",
      "source": "This can be a complex computation. If you multiply a matrix with its inverse, you get the Identity matrix $\\mathbf{AA}^{-1}=I$.\n",
      "metadata": {}
    },
    {
      "cell_type": "code",
      "source": "I=np.round(A@A_inv, 8)\nMatrix(I)",
      "metadata": {
        "trusted": true
      },
      "outputs": [
        {
          "execution_count": 46,
          "output_type": "execute_result",
          "data": {
            "text/plain": "⎡1.0   0 ⎤\n⎢        ⎥\n⎣ 0   1.0⎦",
            "text/latex": "$\\displaystyle \\left[\\begin{matrix}1.0 & 0\\\\0 & 1.0\\end{matrix}\\right]$"
          },
          "metadata": {}
        }
      ],
      "execution_count": 46
    },
    {
      "cell_type": "markdown",
      "source": "Naturally, the inverse of an inverted matrix is the uninverted matrix, thus $\\mathbf{A^{-1}A}=I$.\n",
      "metadata": {}
    },
    {
      "cell_type": "code",
      "source": "I=np.round(A_inv@A, 8)\nMatrix(I)",
      "metadata": {
        "trusted": true
      },
      "outputs": [
        {
          "execution_count": 47,
          "output_type": "execute_result",
          "data": {
            "text/plain": "⎡1.0   0 ⎤\n⎢        ⎥\n⎣ 0   1.0⎦",
            "text/latex": "$\\displaystyle \\left[\\begin{matrix}1.0 & 0\\\\0 & 1.0\\end{matrix}\\right]$"
          },
          "metadata": {}
        }
      ],
      "execution_count": 47
    },
    {
      "cell_type": "markdown",
      "source": "If you multiply any square matrix with an Identity matrix, you get the original Matrix. For example, $\\mathbf{IA}=\\mathbf{A}$. Using `NumPy`:\n",
      "metadata": {}
    },
    {
      "cell_type": "code",
      "source": "Matrix((A@I))",
      "metadata": {
        "trusted": true
      },
      "outputs": [
        {
          "execution_count": 48,
          "output_type": "execute_result",
          "data": {
            "text/plain": "⎡-1.0  1.0⎤\n⎢         ⎥\n⎣1.0   2.0⎦",
            "text/latex": "$\\displaystyle \\left[\\begin{matrix}-1.0 & 1.0\\\\1.0 & 2.0\\end{matrix}\\right]$"
          },
          "metadata": {}
        }
      ],
      "execution_count": 48
    },
    {
      "cell_type": "markdown",
      "source": "Finally, note that the order in which matrices are multiplied matters, whereas for scalars it does not. For example, for two matrices $\\mathbf{A}$ and $\\mathbf{B}$, $\\mathbf{AB}$ will typically not equal $\\mathbf{BA}$.\n",
      "metadata": {}
    },
    {
      "cell_type": "markdown",
      "source": "### Exercise 3\n\nUse the inverse of  matrix $\\mathbf{A}$ to solve for $\\mathbf{x}$ given $\\mathbf{b}$ and assign it to `x_`. Compare the result to `x`.\n",
      "metadata": {}
    },
    {
      "cell_type": "code",
      "source": "### Insert your solution here ###\nx_=A_inv@b\nprint(\"x_:\",x_)\nprint(\"x:\",x)",
      "metadata": {
        "trusted": true
      },
      "outputs": [
        {
          "name": "stdout",
          "text": "x_: [1. 1.]\nx: [1 1]\n",
          "output_type": "stream"
        }
      ],
      "execution_count": 49
    },
    {
      "cell_type": "markdown",
      "source": "<details>\n    <summary>Click here for solution</summary>\n\n```python\nx_=A_inv@b\nprint(\"x_ :\",x_)\nprint(\"x:\",x)\n```\n\n</details>\n",
      "metadata": {}
    },
    {
      "cell_type": "markdown",
      "source": "Another type of matrix is an **orthogonal matrix**. An orthogonal matrix is extremely useful. If matrix $\\mathbf{Q}$ is orthogonal, then $Q^T=Q^{-1}$, and the rows and columns are also orthogonal. For example:\n",
      "metadata": {}
    },
    {
      "cell_type": "code",
      "source": "Q=np.array([[1,1],[1,-1]])*2**(-1/2)\nQ",
      "metadata": {
        "trusted": true
      },
      "outputs": [
        {
          "execution_count": 50,
          "output_type": "execute_result",
          "data": {
            "text/plain": "array([[ 0.70710678,  0.70710678],\n       [ 0.70710678, -0.70710678]])"
          },
          "metadata": {}
        }
      ],
      "execution_count": 50
    },
    {
      "cell_type": "markdown",
      "source": "You can verify that $Q^T=Q^{-1}$.\n",
      "metadata": {}
    },
    {
      "cell_type": "code",
      "source": "I=Q@Q.T\nMatrix(I)",
      "metadata": {
        "trusted": true
      },
      "outputs": [
        {
          "execution_count": 51,
          "output_type": "execute_result",
          "data": {
            "text/plain": "⎡1.0   0 ⎤\n⎢        ⎥\n⎣ 0   1.0⎦",
            "text/latex": "$\\displaystyle \\left[\\begin{matrix}1.0 & 0\\\\0 & 1.0\\end{matrix}\\right]$"
          },
          "metadata": {}
        }
      ],
      "execution_count": 51
    },
    {
      "cell_type": "markdown",
      "source": "And, graphically, you can show that the column vectors are indeed orthogonal.\n",
      "metadata": {}
    },
    {
      "cell_type": "code",
      "source": "fig, ax = plt.subplots(figsize = (12, 7))\nax.quiver([0, 0],[0, 0],Q[0,0], Q[1,0],scale=10,label=\"$\\mathbf{q}_{1}$\")\nax.quiver([0, 0],[0, 0],Q[0,1], Q[1,1],scale=10,label=\"$\\mathbf{q}_{2}$\",color='red')\nplt.title(\"columns of $\\mathbf{Q}$ \")\nplt.legend()\nplt.show()",
      "metadata": {
        "trusted": true
      },
      "outputs": [
        {
          "name": "stderr",
          "text": "<unknown>:2: SyntaxWarning: invalid escape sequence '\\m'\n<unknown>:3: SyntaxWarning: invalid escape sequence '\\m'\n<unknown>:4: SyntaxWarning: invalid escape sequence '\\m'\n<>:2: SyntaxWarning: invalid escape sequence '\\m'\n<>:3: SyntaxWarning: invalid escape sequence '\\m'\n<>:4: SyntaxWarning: invalid escape sequence '\\m'\n<>:2: SyntaxWarning: invalid escape sequence '\\m'\n<>:3: SyntaxWarning: invalid escape sequence '\\m'\n<>:4: SyntaxWarning: invalid escape sequence '\\m'\n<ipython-input-52-a3e41576df84>:2: SyntaxWarning: invalid escape sequence '\\m'\n  ax.quiver([0, 0],[0, 0],Q[0,0], Q[1,0],scale=10,label=\"$\\mathbf{q}_{1}$\")\n<ipython-input-52-a3e41576df84>:3: SyntaxWarning: invalid escape sequence '\\m'\n  ax.quiver([0, 0],[0, 0],Q[0,1], Q[1,1],scale=10,label=\"$\\mathbf{q}_{2}$\",color='red')\n<ipython-input-52-a3e41576df84>:4: SyntaxWarning: invalid escape sequence '\\m'\n  plt.title(\"columns of $\\mathbf{Q}$ \")\n",
          "output_type": "stream"
        },
        {
          "output_type": "display_data",
          "data": {
            "text/plain": "<Figure size 1200x700 with 1 Axes>",
            "image/png": "[encoded data removed]"
          },
          "metadata": {}
        }
      ],
      "execution_count": 52
    },
    {
      "cell_type": "markdown",
      "source": "You usually place your data in a design matrix $\\textbf{X}$, where each row represents an individual sample. Consider the following example `X_`:\n",
      "metadata": {}
    },
    {
      "cell_type": "code",
      "source": "samples=200\n\nu=np.array([[1.0,1.0],[0.10,-0.10]])/(2)**(0.5)\n\nX_=np.dot(4*np.random.randn(samples,2),u)+10\nX_[0:5]",
      "metadata": {
        "trusted": true
      },
      "outputs": [
        {
          "execution_count": 53,
          "output_type": "execute_result",
          "data": {
            "text/plain": "array([[ 2.72436355,  2.67599443],\n       [ 9.85406805,  9.51352447],\n       [13.2950368 , 14.11434475],\n       [ 4.37459624,  4.01742409],\n       [ 9.8362748 ,  9.97832056]])"
          },
          "metadata": {}
        }
      ],
      "execution_count": 53
    },
    {
      "cell_type": "markdown",
      "source": "You can plot the samples.\n",
      "metadata": {}
    },
    {
      "cell_type": "code",
      "source": "dict_={\"design matrix samples\":X_}\nplot_2da(dict_)",
      "metadata": {
        "trusted": true
      },
      "outputs": [
        {
          "output_type": "display_data",
          "data": {
            "text/plain": "<Figure size 640x480 with 1 Axes>",
            "image/png": "[encoded data removed]"
          },
          "metadata": {}
        }
      ],
      "execution_count": 54
    },
    {
      "cell_type": "markdown",
      "source": "You can find the shape of the design matrix.\n",
      "metadata": {}
    },
    {
      "cell_type": "code",
      "source": "N,D=X_.shape\nprint(\"number of smaples {}, dimensions is {}\".format(N,D))",
      "metadata": {
        "trusted": true
      },
      "outputs": [
        {
          "name": "stdout",
          "text": "number of smaples 200, dimensions is 2\n",
          "output_type": "stream"
        }
      ],
      "execution_count": 55
    },
    {
      "cell_type": "markdown",
      "source": "You can also perform lots of operations thanks to matrix multiplication. For example, you can find the mean using:\n",
      "metadata": {}
    },
    {
      "cell_type": "code",
      "source": "mean=(np.ones((1,N))/N)@X_\nmean",
      "metadata": {
        "trusted": true
      },
      "outputs": [
        {
          "execution_count": 56,
          "output_type": "execute_result",
          "data": {
            "text/plain": "array([[9.97605209, 9.96055501]])"
          },
          "metadata": {}
        }
      ],
      "execution_count": 56
    },
    {
      "cell_type": "markdown",
      "source": "You can verify the result using `NumPy`'s built-in `mean` array method.\n",
      "metadata": {}
    },
    {
      "cell_type": "code",
      "source": "X_.mean(axis=0)",
      "metadata": {
        "trusted": true
      },
      "outputs": [
        {
          "execution_count": 57,
          "output_type": "execute_result",
          "data": {
            "text/plain": "array([9.97605209, 9.96055501])"
          },
          "metadata": {}
        }
      ],
      "execution_count": 57
    },
    {
      "cell_type": "markdown",
      "source": "### Exercise 4\n\nPerform matrix multiplication using **no_mean** and **X\\_**, and save the result in a variable called **X**. Show that the mean of **X** with respect to the rows is approximately zero.\n",
      "metadata": {}
    },
    {
      "cell_type": "code",
      "source": "I=np.identity(N)\ncol1=np.ones((1,N))\nrow1=np.ones((N,1))/N\nno_mean=(I-row1@col1)\n\n### Insert your solution here ###\nX=no_mean@X_\nprint(\"mean of X\",X.mean(axis=0))",
      "metadata": {
        "trusted": true
      },
      "outputs": [
        {
          "name": "stdout",
          "text": "mean of X [ 2.03836947e-15 -6.26165786e-16]\n",
          "output_type": "stream"
        }
      ],
      "execution_count": 61
    },
    {
      "cell_type": "markdown",
      "source": "<details>\n    <summary>Click here for solution</summary>\n\n```python\nX=no_mean@X_\nprint(\"mean of X\",X.mean(axis=0))\n```\n\n</details>\n",
      "metadata": {}
    },
    {
      "cell_type": "markdown",
      "source": "Let's plot the original data, the zero mean data, and the location of the mean in the original data.\n",
      "metadata": {}
    },
    {
      "cell_type": "code",
      "source": "dict_={\"original data\":X_,\"zero mean data\":X,\"mean of original data\":mean}\nplot_2da(dict_)    ",
      "metadata": {
        "trusted": true
      },
      "outputs": [
        {
          "output_type": "display_data",
          "data": {
            "text/plain": "<Figure size 640x480 with 1 Axes>",
            "image/png": "[encoded data removed]"
          },
          "metadata": {}
        }
      ],
      "execution_count": 62
    },
    {
      "cell_type": "markdown",
      "source": "Because you subtracted the mean, you are now able to calculate the empirical covariance matrix using matrix multiplication.\n",
      "metadata": {}
    },
    {
      "cell_type": "markdown",
      "source": "$\\mathbf{C}=\\frac{1}{N}   \\mathbf{X}^T \\mathbf{X} $\n",
      "metadata": {}
    },
    {
      "cell_type": "code",
      "source": "C=X.T@X/N\nMatrix(C)",
      "metadata": {
        "trusted": true
      },
      "outputs": [
        {
          "execution_count": 63,
          "output_type": "execute_result",
          "data": {
            "text/plain": "⎡7.50425019833328  7.45900460408953⎤\n⎢                                  ⎥\n⎣7.45900460408953   7.726933904468 ⎦",
            "text/latex": "$\\displaystyle \\left[\\begin{matrix}7.50425019833328 & 7.45900460408953\\\\7.45900460408953 & 7.726933904468\\end{matrix}\\right]$"
          },
          "metadata": {}
        }
      ],
      "execution_count": 63
    },
    {
      "cell_type": "markdown",
      "source": "You can verify that the empirical covariance matrix is full rank.\n",
      "metadata": {}
    },
    {
      "cell_type": "code",
      "source": "matrix_rank(C)",
      "metadata": {
        "trusted": true
      },
      "outputs": [
        {
          "execution_count": 64,
          "output_type": "execute_result",
          "data": {
            "text/plain": "2"
          },
          "metadata": {}
        }
      ],
      "execution_count": 64
    },
    {
      "cell_type": "markdown",
      "source": "## Eigen decomposition\n",
      "metadata": {}
    },
    {
      "cell_type": "markdown",
      "source": "### Eigenvectors and Eigenvalues\n",
      "metadata": {}
    },
    {
      "cell_type": "markdown",
      "source": "If a matrix is full rank, you can apply Eigen factorization or Eigen decomposition to it so that it is represented in terms of its Eigenvalues $\\mathbf{\\Lambda}$ and Eigenvectors embedded in matrix $\\mathbf{Q}$. Symbolically:\n",
      "metadata": {}
    },
    {
      "cell_type": "markdown",
      "source": "$\\mathbf{A}=\\mathbf{Q}\\mathbf{\\Lambda}\\mathbf{Q}^{-1}$\n",
      "metadata": {}
    },
    {
      "cell_type": "markdown",
      "source": "You can obtain these matrices using `NumPy`.\n",
      "metadata": {}
    },
    {
      "cell_type": "code",
      "source": "eigen_values , eigen_vectors = eig(A)",
      "metadata": {
        "trusted": true
      },
      "outputs": [],
      "execution_count": 65
    },
    {
      "cell_type": "markdown",
      "source": "`eigen_values` is a vector, so you convert it to a diagonal matrix using the `np.diag` function.\n",
      "metadata": {}
    },
    {
      "cell_type": "code",
      "source": "Matrix(np.diag(eigen_values))",
      "metadata": {
        "trusted": true
      },
      "outputs": [
        {
          "execution_count": 66,
          "output_type": "execute_result",
          "data": {
            "text/plain": "⎡-1.30277563773199         0        ⎤\n⎢                                   ⎥\n⎣        0          2.30277563773199⎦",
            "text/latex": "$\\displaystyle \\left[\\begin{matrix}-1.30277563773199 & 0\\\\0 & 2.30277563773199\\end{matrix}\\right]$"
          },
          "metadata": {}
        }
      ],
      "execution_count": 66
    },
    {
      "cell_type": "markdown",
      "source": "You can also look at the Eigenvectors.\n",
      "metadata": {}
    },
    {
      "cell_type": "code",
      "source": "Matrix(eigen_vectors)",
      "metadata": {
        "trusted": true
      },
      "outputs": [
        {
          "execution_count": 67,
          "output_type": "execute_result",
          "data": {
            "text/plain": "⎡-0.957092026489053  -0.28978414868843 ⎤\n⎢                                      ⎥\n⎣ 0.28978414868843   -0.957092026489053⎦",
            "text/latex": "$\\displaystyle \\left[\\begin{matrix}-0.957092026489053 & -0.28978414868843\\\\0.28978414868843 & -0.957092026489053\\end{matrix}\\right]$"
          },
          "metadata": {}
        }
      ],
      "execution_count": 67
    },
    {
      "cell_type": "markdown",
      "source": "You can retrieve the original matrix as follows:\n",
      "metadata": {}
    },
    {
      "cell_type": "code",
      "source": "A=np.round(eigen_vectors@np.diag(eigen_values)@inv(eigen_vectors),8)\nMatrix(A)",
      "metadata": {
        "trusted": true
      },
      "outputs": [
        {
          "execution_count": 68,
          "output_type": "execute_result",
          "data": {
            "text/plain": "⎡-1.0  1.0⎤\n⎢         ⎥\n⎣1.0   2.0⎦",
            "text/latex": "$\\displaystyle \\left[\\begin{matrix}-1.0 & 1.0\\\\1.0 & 2.0\\end{matrix}\\right]$"
          },
          "metadata": {}
        }
      ],
      "execution_count": 68
    },
    {
      "cell_type": "markdown",
      "source": "## Factorization for PCA\n",
      "metadata": {}
    },
    {
      "cell_type": "markdown",
      "source": "Eigen decomposition can only be applied to matrices that are full rank. However, even if a matrix is full rank, its Eigenvalues and Eigenvectors could be complex.\n\nA practical example of the use of the symmetric matrix ($\\mathbf{S}=\\mathbf{S}^{T}$) is where you require the Eigenvalues to be real-valued and the Eigenvectors to be orthogonal. An example of this is seen in the covariance matrix $\\mathbf{C}$ used in principal component analysis (PCA):\n",
      "metadata": {}
    },
    {
      "cell_type": "markdown",
      "source": "$\\mathbf{C}=\\mathbf{V}\\mathbf{\\Lambda}\\mathbf{V}^{T}$\n",
      "metadata": {}
    },
    {
      "cell_type": "markdown",
      "source": "Using `NumPy`:\n",
      "metadata": {}
    },
    {
      "cell_type": "code",
      "source": "eigen_values , eigen_vectors = eig(C)",
      "metadata": {
        "trusted": true
      },
      "outputs": [],
      "execution_count": 69
    },
    {
      "cell_type": "markdown",
      "source": "You can now perform PCA using factorization. To find the first principle component, you must find the eigenvector with the largest eigenvalue.\n",
      "metadata": {}
    },
    {
      "cell_type": "code",
      "source": "v=eigen_vectors[:, np.argmax(eigen_values)].reshape(-1,1)\nv",
      "metadata": {
        "trusted": true
      },
      "outputs": [
        {
          "execution_count": 70,
          "output_type": "execute_result",
          "data": {
            "text/plain": "array([[-0.70180998],\n       [-0.7123642 ]])"
          },
          "metadata": {}
        }
      ],
      "execution_count": 70
    },
    {
      "cell_type": "markdown",
      "source": "You can calculate the first principal component by finding the projection of the original data onto $\\mathbf{v}$.\n",
      "metadata": {}
    },
    {
      "cell_type": "markdown",
      "source": "$\\mathbf{Z}=\\mathbf{X} \\mathbf{v}$\n",
      "metadata": {}
    },
    {
      "cell_type": "code",
      "source": "Z=X@v",
      "metadata": {
        "trusted": true
      },
      "outputs": [],
      "execution_count": 71
    },
    {
      "cell_type": "markdown",
      "source": "Let's verify by using the first pricipal component found by the `sklearn` package.\n",
      "metadata": {}
    },
    {
      "cell_type": "code",
      "source": "pca = PCA(n_components=1)\nZ_sklearn = pca.fit_transform(X_)\n\n# This will print True if the vectors are identical (ignoring the sign) and False otherwise\nif np.isclose(Z,Z_sklearn).min():\n    print(np.isclose(Z,Z_sklearn).min())\nelse:\n    print(np.isclose(Z,-Z_sklearn).min())",
      "metadata": {
        "trusted": true
      },
      "outputs": [
        {
          "name": "stdout",
          "text": "True\n",
          "output_type": "stream"
        }
      ],
      "execution_count": 72
    },
    {
      "cell_type": "markdown",
      "source": "### Exercise 5\n\nPerform PCA using `sklearn` with `n_components=1` on **X**. Store the transformed data in `X_transformed`. Also, do an `inverse_transform` using the same fitted PCA object; store the result in `X_`.\n",
      "metadata": {}
    },
    {
      "cell_type": "code",
      "source": "### Insert your solution here ###\npca = PCA(n_components=1)\nX_transformed=pca.fit_transform(X)\nX_=p",
      "metadata": {
        "trusted": true
      },
      "outputs": [],
      "execution_count": 73
    },
    {
      "cell_type": "markdown",
      "source": "<details>\n    <summary>Click here for solution</summary>\n\n```python\npca = PCA(n_components=1)\nX_transformed=pca.fit_transform(X)\nX_=pca.inverse_transform(X_transformed)\n\n```\n\n</details>\n",
      "metadata": {}
    },
    {
      "cell_type": "markdown",
      "source": "You can also transform the data back to its original space by using matrix multiplication.\n",
      "metadata": {}
    },
    {
      "cell_type": "markdown",
      "source": "$\\mathbf{\\hat{X}}=\\mathbf{Z} \\mathbf{v}^T$\n",
      "metadata": {}
    },
    {
      "cell_type": "markdown",
      "source": "### Exercise 6\n\nFind the transform data back to its original space from the previous equation and call it **Xhat**.\n",
      "metadata": {}
    },
    {
      "cell_type": "code",
      "source": "### Insert your solution here ###\n",
      "metadata": {},
      "outputs": [],
      "execution_count": null
    },
    {
      "cell_type": "markdown",
      "source": "<details>\n    <summary>Click here for solution</summary>\n\n```python\nXhat=Z@v.T\n```\n\n</details>\n",
      "metadata": {}
    },
    {
      "cell_type": "markdown",
      "source": "You can also check that the two methods give the same \"inverse transform\" result (**X\\_** and **Xhat** will overlap in the plot) by running the following cell.\n",
      "metadata": {}
    },
    {
      "cell_type": "code",
      "source": "v.T",
      "metadata": {},
      "outputs": [],
      "execution_count": null
    },
    {
      "cell_type": "code",
      "source": "dict_ = {\"Sklearn inverse_transform\": X_, \"Matrix inverse transform\": Xhat, \"First Principal Component\": v.T}\nplot_2db(dict_)",
      "metadata": {},
      "outputs": [],
      "execution_count": null
    },
    {
      "cell_type": "markdown",
      "source": "# Congratulations! - You have completed the lab\n",
      "metadata": {}
    },
    {
      "cell_type": "markdown",
      "source": "## Authors\n",
      "metadata": {}
    },
    {
      "cell_type": "markdown",
      "source": "<a href=\"https://www.linkedin.com/in/joseph-s-50398b136/?utm_medium=Exinfluencer&utm_source=Exinfluencer&utm_content=000026UJ&utm_term=10006555&utm_id=NA-SkillsNetwork-Channel-SkillsNetworkCoursesIBMDeveloperSkillsNetworkML0101ENSkillsNetwork20718538-2021-01-01\" target=\"_blank\">Joseph Santarcangelo</a> Joseph has a Ph.D. in Electrical Engineering, his research focused on using machine learning, signal processing, and computer vision to determine how videos impact human cognition. Joseph has been working for IBM since he completed his PhD.\n",
      "metadata": {}
    },
    {
      "cell_type": "markdown",
      "source": "[Wojciech \"Victor\" Fulmyk](https://www.linkedin.com/in/wfulmyk) is a Data Scientist at IBM Skills Network, and an economics PhD Candididate at the University of Calgary.\n",
      "metadata": {}
    },
    {
      "cell_type": "markdown",
      "source": "### Other Contributors\n",
      "metadata": {}
    },
    {
      "cell_type": "markdown",
      "source": "[Roxanne Li](https://www.linkedin.com/in/roxanne-li/?utm_medium=Exinfluencer&utm_source=Exinfluencer&utm_content=000026UJ&utm_term=10006555&utm_id=NA-SkillsNetwork-Channel-SkillsNetworkCoursesIBMML0187ENSkillsNetwork31430127-2022-01-01) was a Data Science intern at IBM Skills Network, entering level-5 study in the Mathematics & Statistics undergraduate Coop program at McMaster University.\n",
      "metadata": {}
    },
    {
      "cell_type": "markdown",
      "source": "## Change Log\n",
      "metadata": {}
    },
    {
      "cell_type": "markdown",
      "source": "| Date (YYYY-MM-DD) | Version | Changed By  | Change Description  |\n| ----------------- | ------- | ----------- | ------------------- |\n| 2022-03-25        | 0.1     | Joseph S.   | Updated all content |\n| 2022-05-26        | 0.1     | Roxanne Li  | Review and edit     |\n| 2022-06-09        | 0.1     | Steve H.    | QA pass             |\n| 2022-07-15        | 0.1     | Svitlana K. | Review and edit     |\n| 2024-02-05        | 0.15     | Wojciech \"Victor\" Fulmyk | Review and fix LaTex     |\n| 2024-02-05        | 0.99     | Wojciech \"Victor\" Fulmyk | Lab complete, requires review     |\n| 2024-02-21        | 1.00     | Wojciech \"Victor\" Fulmyk | Fix TOC   |\n",
      "metadata": {}
    },
    {
      "cell_type": "markdown",
      "source": "Copyright © 2021 IBM Corporation. All rights reserved.\n",
      "metadata": {}
    }
  ]
}